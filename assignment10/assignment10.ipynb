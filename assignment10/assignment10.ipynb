{
 "cells": [
  {
   "attachments": {},
   "cell_type": "markdown",
   "metadata": {},
   "source": [
    "# Assignment 10"
   ]
  },
  {
   "attachments": {},
   "cell_type": "markdown",
   "metadata": {},
   "source": [
    "<font size = \"5\">\n",
    "Print your name below"
   ]
  },
  {
   "cell_type": "code",
   "execution_count": 1,
   "metadata": {},
   "outputs": [
    {
     "name": "stdout",
     "output_type": "stream",
     "text": [
      "Lucas Huang\n"
     ]
    }
   ],
   "source": [
    "print(\"Lucas Huang\")"
   ]
  },
  {
   "cell_type": "markdown",
   "metadata": {},
   "source": [
    "<font size = \"5\">\n",
    "\n",
    "Import pandas package"
   ]
  },
  {
   "cell_type": "code",
   "execution_count": 2,
   "metadata": {},
   "outputs": [],
   "source": [
    "import pandas as pd"
   ]
  },
  {
   "cell_type": "markdown",
   "metadata": {},
   "source": [
    "<font size = \"5\">\n",
    "\n",
    "Import SQL packages"
   ]
  },
  {
   "cell_type": "code",
   "execution_count": 3,
   "metadata": {},
   "outputs": [],
   "source": [
    "# Write your answer here:\n",
    "\n",
    "\n",
    "from sqlalchemy import create_engine\n",
    "from sqlalchemy.engine import URL\n",
    "from sqlalchemy import text\n"
   ]
  },
  {
   "cell_type": "markdown",
   "metadata": {},
   "source": [
    "<font size = \"5\">\n",
    "\n",
    "Establish a connection to the SQL server and database ```postgres``` <br>\n",
    "from Python as done in  class  using <br>\n",
    "```URL()``` and ```create_engine()```<br>\n",
    "As we are are in the default database, you can leave out the database argument.\n",
    "\n",
    "Note: You may have to change some of the login details <br>\n",
    "depending on your computer"
   ]
  },
  {
   "cell_type": "code",
   "execution_count": 4,
   "metadata": {},
   "outputs": [],
   "source": [
    "# Write your answer here:\n",
    "\n",
    "url_server = URL.create(\n",
    "    \"postgresql\",\n",
    "    host = 'localhost',\n",
    "    username = 'postgres',\n",
    "    port = 5432,\n",
    "    password  = '12345')\n",
    "connection = create_engine(url_server)\n"
   ]
  },
  {
   "cell_type": "markdown",
   "metadata": {},
   "source": [
    "\n",
    "<font size = \"5\">\n",
    "\n",
    "(a) Upload dataset to SQL\n",
    "\n",
    "<font size = \"3\">\n",
    "\n",
    "- Read the files ```wdi_2018-2023.xlsx``` in the ```data_raw``` folder. <br>\n",
    "This is a file containing data from the world development indicators for <br>\n",
    "2018-2023.\n",
    "- Upload the data to your local SQL server using the <br>\n",
    "\"to_sql\" command. Call the new dataset ```wdi_data```\n",
    " in the server"
   ]
  },
  {
   "cell_type": "code",
   "execution_count": null,
   "metadata": {},
   "outputs": [
    {
     "data": {
      "text/plain": [
       "578"
      ]
     },
     "execution_count": 5,
     "metadata": {},
     "output_type": "execute_result"
    }
   ],
   "source": [
    "wdi_data = pd.read_excel('data_raw/wdi_2018-2023.xlsx')\n",
    "\n",
    "wdi_data.to_sql('wdi_data', con=connection, if_exists='replace', index=False)"
   ]
  },
  {
   "cell_type": "markdown",
   "metadata": {},
   "source": [
    "\n",
    "<font size = \"5\">\n",
    "\n",
    "(b) Subset and sort\n",
    "\n",
    "<font size = \"3\">\n",
    "\n",
    "For the following command use ```pd.read_sql()```\n",
    "\n",
    "- Use ```WHERE``` to get a subset of \"wdi_data\" in the SQL server to  <br>\n",
    "which only selects entries related to the USA, <br>\n",
    "using the column \"country_code\"\n",
    "- Chain this with ```ORDER BY year``` to sort in <br>\n",
    "ascending order <br>\n",
    "\n",
    "Hints:\n",
    "- Remember to include a  ```\\```  to be able to define strings over multiple lines\n",
    "- We can include single quotations in the WHERE command <br>\n",
    "without any additional escape characters"
   ]
  },
  {
   "cell_type": "code",
   "execution_count": 8,
   "metadata": {},
   "outputs": [
    {
     "name": "stdout",
     "output_type": "stream",
     "text": [
      "   year   country_name country_code  prop_urban\n",
      "0  2018  United States          USA      82.256\n",
      "1  2019  United States          USA      82.459\n",
      "2  2020  United States          USA      82.664\n",
      "3  2021  United States          USA      82.873\n",
      "4  2022  United States          USA      83.084\n",
      "5  2023  United States          USA      83.298\n"
     ]
    }
   ],
   "source": [
    "query = \"\"\"\n",
    "SELECT *\n",
    "FROM wdi_data\n",
    "WHERE country_code = 'USA'\n",
    "ORDER BY year\n",
    "\"\"\"\n",
    "\n",
    "usa_data = pd.read_sql(query, con=connection)\n",
    "print(usa_data)"
   ]
  },
  {
   "cell_type": "markdown",
   "metadata": {},
   "source": [
    "<font size = \"5\">\n",
    "\n",
    "(c) Groupby + Aggregate + Sort\n",
    "\n",
    "<font size = \"3\">\n",
    "\n",
    "For the following command use ```pd.read_sql()```\n",
    "\n",
    "- From ```wdi_data``` obtain the average of \"prop_urban\" <br>\n",
    "by country_name using ```GROUP BY```\n",
    "- Use ```HAVING ``` to filter countries with an <br>\n",
    "average proportion of urban population greater than 40%\n",
    "- Make sure to separate pieces of your logic over seperate lines  by a ```\\```\n",
    "\n",
    "HINT: Use ```HAVING AVG(prop_urban)``` rather than an alias <br>\n",
    "for the code to work correctly.\n"
   ]
  },
  {
   "cell_type": "code",
   "execution_count": 9,
   "metadata": {},
   "outputs": [
    {
     "name": "stdout",
     "output_type": "stream",
     "text": [
      "           country_name  avg_prop_urban\n",
      "0     Brunei Darussalam       78.396333\n",
      "1    Iran, Islamic Rep.       76.095333\n",
      "2            Luxembourg       91.548000\n",
      "3             IDA blend       43.381773\n",
      "4                Sweden       88.097333\n",
      "..                  ...             ...\n",
      "201               Haiti       57.499667\n",
      "202           Gibraltar      100.000000\n",
      "203   Equatorial Guinea       73.314833\n",
      "204             Somalia       46.440167\n",
      "205             Andorra       87.900833\n",
      "\n",
      "[206 rows x 2 columns]\n"
     ]
    }
   ],
   "source": [
    "query_groupby = \"\"\"\n",
    "SELECT country_name, AVG(prop_urban) AS avg_prop_urban\n",
    "FROM wdi_data\n",
    "GROUP BY country_name\n",
    "HAVING AVG(prop_urban) > 40\n",
    "\"\"\"\n",
    "\n",
    "grouped_data = pd.read_sql(query_groupby, con=connection)\n",
    "print(grouped_data)"
   ]
  },
  {
   "cell_type": "markdown",
   "metadata": {},
   "source": [
    "<font size = \"5\">\n",
    "\n",
    "(d) Groupby + Aggregate\n",
    "\n",
    "<font size = \"3\">\n",
    "\n",
    "(1) Run a query using ```pd.read_sql()```\n",
    "- From ```wdi_data```, obtain the average, minimum, and maximum <br>\n",
    "of \"prop_urban\" by \"year\" using ```GROUP BY```\n",
    "- Use ```ORDER BY ``` to sort by the average of \"avg_prop_urban\"\n",
    "- Make sure to separate pieces of your logic over seperate lines  by a ```\\```\n",
    "- Store the output as a pandas object called ```wdi_grouped```\n",
    "\n",
    "(2) Upload\n",
    "- Reupload the result to the server as ```wdi_grouped_data``` using ```to_sql```"
   ]
  },
  {
   "cell_type": "code",
   "execution_count": 10,
   "metadata": {},
   "outputs": [
    {
     "name": "stdout",
     "output_type": "stream",
     "text": [
      "   year  avg_prop_urban  min_prop_urban  max_prop_urban\n",
      "0  2018       59.732829          13.032           100.0\n",
      "1  2019       60.054119          13.250           100.0\n",
      "2  2020       60.379627          13.345           100.0\n",
      "3  2021       60.707990          13.456           100.0\n",
      "4  2022       61.041838          13.582           100.0\n",
      "5  2023       61.379119          13.723           100.0\n"
     ]
    },
    {
     "data": {
      "text/plain": [
       "6"
      ]
     },
     "execution_count": 10,
     "metadata": {},
     "output_type": "execute_result"
    }
   ],
   "source": [
    "query_groupby_aggregate = \"\"\"\n",
    "SELECT year, \n",
    "    AVG(prop_urban) AS avg_prop_urban, \n",
    "    MIN(prop_urban) AS min_prop_urban, \n",
    "    MAX(prop_urban) AS max_prop_urban\n",
    "FROM wdi_data\n",
    "GROUP BY year\n",
    "ORDER BY avg_prop_urban\n",
    "\"\"\"\n",
    "\n",
    "wdi_grouped = pd.read_sql(query_groupby_aggregate, con=connection)\n",
    "print(wdi_grouped)\n",
    "\n",
    "wdi_grouped.to_sql('wdi_grouped_data', con=connection, if_exists='replace', index=False)"
   ]
  },
  {
   "cell_type": "markdown",
   "metadata": {},
   "source": [
    "<font size = \"5\">\n",
    "\n",
    "(e) Merge\n",
    "\n",
    "<font size = \"3\">\n",
    "\n",
    "This question depends on your answer to question (d).\n",
    "\n",
    "For the following command use ```pd.read_sql()```\n",
    "\n",
    "- From ```wdi_data```, ```LEFT JOIN``` the dataset ```wdi_grouped_data``` <br>\n",
    "using ```year``` as a merging variable. \n",
    "- Hint: See Lecture on SQL for how to merge datasets\n"
   ]
  },
  {
   "cell_type": "code",
   "execution_count": 11,
   "metadata": {},
   "outputs": [
    {
     "name": "stdout",
     "output_type": "stream",
     "text": [
      "      year                 country_name country_code  prop_urban  \\\n",
      "0     2018                        Aruba          ABW   43.411000   \n",
      "1     2018  Africa Eastern and Southern          AFE   35.893398   \n",
      "2     2018                  Afghanistan          AFG   25.495000   \n",
      "3     2018   Africa Western and Central          AFW   46.709753   \n",
      "4     2018                       Angola          AGO   65.514000   \n",
      "...    ...                          ...          ...         ...   \n",
      "1573  2023                        Samoa          WSM   17.508000   \n",
      "1574  2023                  Yemen, Rep.          YEM   39.831000   \n",
      "1575  2023                 South Africa          ZAF   68.819000   \n",
      "1576  2023                       Zambia          ZMB   46.335000   \n",
      "1577  2023                     Zimbabwe          ZWE   32.517000   \n",
      "\n",
      "      grouped_avg_prop_urban  grouped_min_prop_urban  grouped_max_prop_urban  \n",
      "0                  59.732829                  13.032                   100.0  \n",
      "1                  59.732829                  13.032                   100.0  \n",
      "2                  59.732829                  13.032                   100.0  \n",
      "3                  59.732829                  13.032                   100.0  \n",
      "4                  59.732829                  13.032                   100.0  \n",
      "...                      ...                     ...                     ...  \n",
      "1573               61.379119                  13.723                   100.0  \n",
      "1574               61.379119                  13.723                   100.0  \n",
      "1575               61.379119                  13.723                   100.0  \n",
      "1576               61.379119                  13.723                   100.0  \n",
      "1577               61.379119                  13.723                   100.0  \n",
      "\n",
      "[1578 rows x 7 columns]\n"
     ]
    }
   ],
   "source": [
    "query_merge = \"\"\"\n",
    "SELECT wdi_data.*, wdi_grouped_data.avg_prop_urban AS grouped_avg_prop_urban,\n",
    "    wdi_grouped_data.min_prop_urban AS grouped_min_prop_urban,\n",
    "    wdi_grouped_data.max_prop_urban AS grouped_max_prop_urban\n",
    "FROM wdi_data\n",
    "LEFT JOIN wdi_grouped_data\n",
    "ON wdi_data.year = wdi_grouped_data.year\n",
    "\"\"\"\n",
    "\n",
    "merged_data = pd.read_sql(query_merge, con=connection)\n",
    "print(merged_data)"
   ]
  }
 ],
 "metadata": {
  "kernelspec": {
   "display_name": "base",
   "language": "python",
   "name": "python3"
  },
  "language_info": {
   "codemirror_mode": {
    "name": "ipython",
    "version": 3
   },
   "file_extension": ".py",
   "mimetype": "text/x-python",
   "name": "python",
   "nbconvert_exporter": "python",
   "pygments_lexer": "ipython3",
   "version": "3.12.7"
  },
  "orig_nbformat": 4
 },
 "nbformat": 4,
 "nbformat_minor": 2
}
